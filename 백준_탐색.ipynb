{
  "nbformat": 4,
  "nbformat_minor": 0,
  "metadata": {
    "colab": {
      "provenance": [],
      "authorship_tag": "ABX9TyPrcTbYJsBVYdLoNmy2gwYB",
      "include_colab_link": true
    },
    "kernelspec": {
      "name": "python3",
      "display_name": "Python 3"
    },
    "language_info": {
      "name": "python"
    }
  },
  "cells": [
    {
      "cell_type": "markdown",
      "metadata": {
        "id": "view-in-github",
        "colab_type": "text"
      },
      "source": [
        "<a href=\"https://colab.research.google.com/github/Jeongbin-Heo/algorithm_coding_test/blob/main/%EB%B0%B1%EC%A4%80_%ED%83%90%EC%83%89.ipynb\" target=\"_parent\"><img src=\"https://colab.research.google.com/assets/colab-badge.svg\" alt=\"Open In Colab\"/></a>"
      ]
    },
    {
      "cell_type": "markdown",
      "source": [
        "# DFS"
      ],
      "metadata": {
        "id": "fMn11sD8F5Af"
      }
    },
    {
      "cell_type": "markdown",
      "source": [
        "**11724 - 연결 요소의 개수 구하기**"
      ],
      "metadata": {
        "id": "ejbfBjOqF_Bv"
      }
    },
    {
      "cell_type": "code",
      "execution_count": 3,
      "metadata": {
        "colab": {
          "base_uri": "https://localhost:8080/"
        },
        "id": "YxdCKc3KFvwk",
        "outputId": "6a5974a1-8358-44eb-eb93-fc594e8a62b7"
      },
      "outputs": [
        {
          "output_type": "stream",
          "name": "stdout",
          "text": [
            "6 5\n",
            "1 2\n",
            "2 5\n",
            "5 1\n",
            "3 4\n",
            "4 6\n",
            "2\n"
          ]
        }
      ],
      "source": [
        "import sys\n",
        "sys.setrecursionlimit(10000)\n",
        "# input = sys.stdin.readline\n",
        "n, m = map(int, input().split())\n",
        "A = [[] for _ in range(n+1)]\n",
        "visited = [False]*(n+1)\n",
        "\n",
        "for i in range(m):\n",
        "  s, e = map(int, input().split())\n",
        "  A[s].append(e)\n",
        "  A[e].append(s)\n",
        "\n",
        "def DFS(v):\n",
        "  visited[v] = True\n",
        "  for i in A[v]:\n",
        "    if not visited[i]:\n",
        "      DFS(i)\n",
        "\n",
        "count = 0\n",
        "\n",
        "for i in range(1, n+1):\n",
        "  if not visited[i]:\n",
        "    DFS(i)\n",
        "    count += 1\n",
        "\n",
        "print(count)"
      ]
    },
    {
      "cell_type": "markdown",
      "source": [
        "**2023 - 신기한 소수 찾기**"
      ],
      "metadata": {
        "id": "2JZF7MNAGHgW"
      }
    },
    {
      "cell_type": "code",
      "source": [
        "import sys\n",
        "sys.setrecursionlimit(10000)\n",
        "# input = sys.stdin.readline\n",
        "\n",
        "n = int(input())\n",
        "\n",
        "def find(x):\n",
        "    for i in range(2, x//2 + 1):\n",
        "        if x % i == 0:\n",
        "            return False\n",
        "    return True\n",
        "\n",
        "def DFS(x):\n",
        "    if len(str(x)) == n:\n",
        "        print(x)\n",
        "    else:\n",
        "        for i in range(10):\n",
        "            temp = x*10 + i\n",
        "            if find(temp):\n",
        "                DFS(temp)\n",
        "                \n",
        "DFS(2)\n",
        "DFS(3)\n",
        "DFS(5)\n",
        "DFS(7)"
      ],
      "metadata": {
        "colab": {
          "base_uri": "https://localhost:8080/"
        },
        "id": "M9u3TwZkGLZT",
        "outputId": "f66b2a0e-ad40-479b-c74e-de79196974ce"
      },
      "execution_count": 6,
      "outputs": [
        {
          "output_type": "stream",
          "name": "stdout",
          "text": [
            "4\n",
            "2333\n",
            "2339\n",
            "2393\n",
            "2399\n",
            "2939\n",
            "3119\n",
            "3137\n",
            "3733\n",
            "3739\n",
            "3793\n",
            "3797\n",
            "5939\n",
            "7193\n",
            "7331\n",
            "7333\n",
            "7393\n"
          ]
        }
      ]
    },
    {
      "cell_type": "markdown",
      "source": [
        "**13023 - 친구 관계 파악하기**"
      ],
      "metadata": {
        "id": "7pXPJgdjGLvC"
      }
    },
    {
      "cell_type": "code",
      "source": [
        "import sys\n",
        "sys.setrecursionlimit(10000)\n",
        "# input = sys.stdin.readline\n",
        "\n",
        "n, m = map(int, input().split())\n",
        "A = [[] for _ in range(n)]\n",
        "visited = [False]*n\n",
        "arrive = False\n",
        "\n",
        "for _ in range(m):\n",
        "    s, e = map(int, input().split())\n",
        "    A[s].append(e)\n",
        "    A[e].append(s)\n",
        " \n",
        "def DFS(v, depth):\n",
        "    global arrive\n",
        "    if depth == 5:\n",
        "        arrive = True\n",
        "        return\n",
        "    visited[v] = True\n",
        "    for i in A[v]:\n",
        "        if not visited[i]:\n",
        "            DFS(i, depth + 1)\n",
        "    visited[v] = False\n",
        "    \n",
        "for i in range(n):\n",
        "    DFS(i, 1)\n",
        "    if arrive:\n",
        "        break\n",
        "        \n",
        "if arrive:\n",
        "    print(1)\n",
        "else:\n",
        "    print(0)"
      ],
      "metadata": {
        "colab": {
          "base_uri": "https://localhost:8080/"
        },
        "id": "clX1q7BaGQa9",
        "outputId": "7977808d-778b-4832-f751-01b8d0def62e"
      },
      "execution_count": 27,
      "outputs": [
        {
          "output_type": "stream",
          "name": "stdout",
          "text": [
            "8 8\n",
            "1 7\n",
            "3 7\n",
            "4 7\n",
            "3 4\n",
            "4 6\n",
            "3 5\n",
            "0 4\n",
            "2 7\n",
            "1\n"
          ]
        }
      ]
    },
    {
      "cell_type": "markdown",
      "source": [
        "# BFS"
      ],
      "metadata": {
        "id": "m6jbQwc0F8Su"
      }
    },
    {
      "cell_type": "markdown",
      "source": [
        "**1260 - DFS와  BFS 프로그램**"
      ],
      "metadata": {
        "id": "utF_krcEGSiq"
      }
    },
    {
      "cell_type": "code",
      "source": [
        "from collections import deque\n",
        "import sys\n",
        "sys.setrecursionlimit(10000)\n",
        "# input = sys.stdin.readline\n",
        "\n",
        "n, m, start = map(int, input().split())\n",
        "A = [[] for _ in range(n+1)]\n",
        "visited_dfs = [False]*(n+1)\n",
        "visited_bfs = [False]*(n+1)\n",
        "\n",
        "for _ in range(m):\n",
        "    s, e = map(int, input().split())\n",
        "    A[s].append(e)\n",
        "    A[e].append(s)\n",
        "    \n",
        "for i in range(n+1):\n",
        "    A[i].sort()\n",
        "    \n",
        "def DFS(v):\n",
        "    visited_dfs[v] = True\n",
        "    print(v, end = ' ')\n",
        "    for i in A[v]:\n",
        "        if not visited_dfs[i]:\n",
        "            DFS(i)\n",
        "            \n",
        "def BFS(v):\n",
        "    queue = deque()\n",
        "    queue.append(v)\n",
        "    visited_bfs[v] = True\n",
        "    while queue:\n",
        "        now = queue.popleft()\n",
        "        print(now, end = ' ')\n",
        "        for i in A[now]:\n",
        "            if not visited_bfs[i]:\n",
        "                queue.append(i)\n",
        "                visited_bfs[i] = True\n",
        "\n",
        "DFS(start)\n",
        "print()\n",
        "BFS(start)"
      ],
      "metadata": {
        "colab": {
          "base_uri": "https://localhost:8080/"
        },
        "id": "zC4IEnVbGWeh",
        "outputId": "4324c394-a51b-4323-82a4-1672faf0a4b2"
      },
      "execution_count": 4,
      "outputs": [
        {
          "output_type": "stream",
          "name": "stdout",
          "text": [
            "4 5 1\n",
            "1 2\n",
            "1 3\n",
            "1 4\n",
            "2 4\n",
            "3 4\n",
            "1 2 4 3 \n",
            "1 2 3 4 "
          ]
        }
      ]
    },
    {
      "cell_type": "markdown",
      "source": [
        "**2178 - 미로 탐색하기**"
      ],
      "metadata": {
        "id": "rDQe-Q1XGWwS"
      }
    },
    {
      "cell_type": "code",
      "source": [
        "from collections import deque\n",
        "import sys\n",
        "# input = sys.stdin.readline\n",
        "\n",
        "n, m = map(int, input().split())\n",
        "A = [[0]*m for _ in range(n)]\n",
        "visited = [[False]*m for _ in range(n)]\n",
        "\n",
        "for i in range(n):\n",
        "    data = list(input())\n",
        "    for j in range(m):\n",
        "        A[i][j] = int(data[j])\n",
        "\n",
        "def BFS(x, y):\n",
        "  dx = [0, 0, -1, 1]\n",
        "  dy = [-1, 1, 0, 0]\n",
        "  queue = deque()\n",
        "  queue.append((x, y))\n",
        "  visited[x][y] = True\n",
        "  while queue:\n",
        "    now = queue.popleft()\n",
        "    for i in range(4):\n",
        "      nx = now[0] + dx[i]\n",
        "      ny = now[1] + dy[i]\n",
        "      if nx >= 0 and ny >= 0 and nx < n and ny < m:\n",
        "        if not visited[nx][ny] and A[nx][ny] != 0:\n",
        "          queue.append((nx, ny))\n",
        "          visited[nx][ny] = True\n",
        "          A[nx][ny] = A[now[0]][now[1]] + 1\n",
        "\n",
        "BFS(0, 0)\n",
        "print(A[-1][-1])"
      ],
      "metadata": {
        "colab": {
          "base_uri": "https://localhost:8080/"
        },
        "id": "YWy25waQGZuB",
        "outputId": "735d3881-8214-4512-991f-d1618c95d2b4"
      },
      "execution_count": 11,
      "outputs": [
        {
          "output_type": "stream",
          "name": "stdout",
          "text": [
            "4 6\n",
            "101111\n",
            "101010\n",
            "101011\n",
            "111011\n",
            "15\n"
          ]
        }
      ]
    },
    {
      "cell_type": "markdown",
      "source": [
        "**1167 - 트리의 지름 구하기**"
      ],
      "metadata": {
        "id": "I_JldEijGbHx"
      }
    },
    {
      "cell_type": "code",
      "source": [
        "from collections import deque\n",
        "import sys\n",
        "# input = sys.stdin.readline\n",
        "\n",
        "n = int(input())\n",
        "A = [[] for _ in range(n+1)]\n",
        "visited = [False]*(n+1)\n",
        "distance = [0]*(n+1)\n",
        "\n",
        "for _ in range(n):\n",
        "    data = list(map(int, input().split()))\n",
        "    for j in range(1, len(data)-1, 2):\n",
        "        A[data[0]].append((data[j], data[j+1]))\n",
        "        \n",
        "def BFS(v):\n",
        "    queue = deque()\n",
        "    queue.append(v)\n",
        "    visited[v] = True\n",
        "    while queue:\n",
        "        now = queue.popleft()\n",
        "        for i in A[now]:\n",
        "            if not visited[i[0]]:\n",
        "                queue.append(i[0])\n",
        "                visited[i[0]] = True\n",
        "                distance[i[0]] = distance[now] + i[1]\n",
        "                \n",
        "BFS(1)\n",
        "Max = distance.index(max(distance))\n",
        "\n",
        "visited = [False]*(n+1)\n",
        "distance = [0]*(n+1)\n",
        "\n",
        "BFS(Max)\n",
        "\n",
        "print(max(distance))"
      ],
      "metadata": {
        "colab": {
          "base_uri": "https://localhost:8080/"
        },
        "id": "BQ5Yn0QjpLc5",
        "outputId": "db62b036-0bf5-4cea-a0f1-0257a9be2b36"
      },
      "execution_count": 44,
      "outputs": [
        {
          "output_type": "stream",
          "name": "stdout",
          "text": [
            "5\n",
            "1 3 2 -1\n",
            "2 4 4 -1\n",
            "3 1 2 4 3 -1\n",
            "4 2 4 3 3 5 6 -1\n",
            "5 4 6 -1\n",
            "11\n"
          ]
        }
      ]
    },
    {
      "cell_type": "markdown",
      "source": [
        "# 이진 탐색"
      ],
      "metadata": {
        "id": "m-vkmRQnF9TU"
      }
    },
    {
      "cell_type": "markdown",
      "source": [
        "**1920 - 원하는 정수 찾기**"
      ],
      "metadata": {
        "id": "AD_SgoP8Gffr"
      }
    },
    {
      "cell_type": "code",
      "source": [
        "import sys\n",
        "# input = sys.stdin.readline\n",
        "\n",
        "n = int(input())\n",
        "A = list(map(int, input().split()))\n",
        "A.sort()\n",
        "m = int(input())\n",
        "target_list = list(map(int, input().split()))\n",
        "\n",
        "for i in range(m):\n",
        "    find = False\n",
        "    target = target_list[i]\n",
        "    start = 0\n",
        "    end = len(A) - 1\n",
        "    \n",
        "    while start <= end:\n",
        "        mid_idx = (start + end) // 2\n",
        "        mid_value = A[mid_idx]\n",
        "        if target < mid_value:\n",
        "            end = mid_idx - 1\n",
        "        elif target > mid_value:\n",
        "            start = mid_idx + 1\n",
        "        else:\n",
        "            find = True\n",
        "            break\n",
        "            \n",
        "    if find:\n",
        "        print(1)\n",
        "    else:\n",
        "        print(0)"
      ],
      "metadata": {
        "colab": {
          "base_uri": "https://localhost:8080/"
        },
        "id": "fPQgw26CGiuY",
        "outputId": "92ed044f-ba81-4b22-b0dc-1a9543ad71e2"
      },
      "execution_count": 5,
      "outputs": [
        {
          "output_type": "stream",
          "name": "stdout",
          "text": [
            "5\n",
            "4 1 5 2 3\n",
            "5\n",
            "1 3 7 9 5\n",
            "1\n",
            "1\n",
            "0\n",
            "0\n",
            "1\n"
          ]
        }
      ]
    },
    {
      "cell_type": "markdown",
      "source": [
        "**2343 - 블루레이 만들기**"
      ],
      "metadata": {
        "id": "6dMFGgpUGkdJ"
      }
    },
    {
      "cell_type": "code",
      "source": [
        "import sys\n",
        "# input = sys.stdin.readline\n",
        "\n",
        "n, m = map(int, input().split())\n",
        "lessons = list(map(int, input().split()))\n",
        "\n",
        "start = max(lessons)\n",
        "end = sum(lessons)\n",
        "\n",
        "while start <= end:\n",
        "    mid = (start + end) // 2\n",
        "    count = 0\n",
        "    sum = 0\n",
        "    \n",
        "    for i in range(n):\n",
        "        if sum + lessons[i] > mid:\n",
        "            count += 1\n",
        "            sum = 0\n",
        "        sum += lessons[i]\n",
        "        \n",
        "    if sum != 0:\n",
        "        count += 1\n",
        "        \n",
        "    if count > m:\n",
        "        start = mid + 1\n",
        "    else:\n",
        "        end = mid - 1\n",
        "        \n",
        "print(start)"
      ],
      "metadata": {
        "colab": {
          "base_uri": "https://localhost:8080/"
        },
        "id": "HkMZ3XIjfRop",
        "outputId": "499ac242-492f-45c1-9028-bd1d8cdeb7ee"
      },
      "execution_count": 24,
      "outputs": [
        {
          "output_type": "stream",
          "name": "stdout",
          "text": [
            "9 3\n",
            "1 2 3 4 5 6 7 8 9\n",
            "17\n"
          ]
        }
      ]
    },
    {
      "cell_type": "markdown",
      "source": [
        "**1300 - 배열에서 K번째 수 찾기**"
      ],
      "metadata": {
        "id": "1f4W-squGmzy"
      }
    },
    {
      "cell_type": "code",
      "source": [
        "import sys\n",
        "# input = sys.stdin.readline\n",
        "\n",
        "n = int(input())\n",
        "k = int(input())\n",
        "\n",
        "start = 1\n",
        "end = k\n",
        "answer = 0\n",
        "\n",
        "while start <= end:\n",
        "    mid = (start + end) // 2\n",
        "    count = 0\n",
        "    for i in range(1, n+1):\n",
        "        count += min(n, mid//i)\n",
        "    if count < k:\n",
        "        start = mid + 1\n",
        "    else:\n",
        "        answer = mid\n",
        "        end = mid - 1\n",
        "        \n",
        "print(answer)"
      ],
      "metadata": {
        "colab": {
          "base_uri": "https://localhost:8080/"
        },
        "id": "MsZxEF5mGpxJ",
        "outputId": "53b8dafa-d59b-4aa0-ca92-9ffd309af254"
      },
      "execution_count": 45,
      "outputs": [
        {
          "output_type": "stream",
          "name": "stdout",
          "text": [
            "3\n",
            "7\n",
            "6\n"
          ]
        }
      ]
    }
  ]
}