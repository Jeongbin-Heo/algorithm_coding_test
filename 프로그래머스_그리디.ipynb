{
  "nbformat": 4,
  "nbformat_minor": 0,
  "metadata": {
    "colab": {
      "provenance": [],
      "authorship_tag": "ABX9TyMtrVWISnaX5IAWRiOr3pLD",
      "include_colab_link": true
    },
    "kernelspec": {
      "name": "python3",
      "display_name": "Python 3"
    },
    "language_info": {
      "name": "python"
    }
  },
  "cells": [
    {
      "cell_type": "markdown",
      "metadata": {
        "id": "view-in-github",
        "colab_type": "text"
      },
      "source": [
        "<a href=\"https://colab.research.google.com/github/Jeongbin-Heo/algorithm_coding_test/blob/main/%ED%94%84%EB%A1%9C%EA%B7%B8%EB%9E%98%EB%A8%B8%EC%8A%A4_%EA%B7%B8%EB%A6%AC%EB%94%94.ipynb\" target=\"_parent\"><img src=\"https://colab.research.google.com/assets/colab-badge.svg\" alt=\"Open In Colab\"/></a>"
      ]
    },
    {
      "cell_type": "markdown",
      "source": [
        "**[체육복](https://school.programmers.co.kr/learn/courses/30/lessons/42862)**"
      ],
      "metadata": {
        "id": "G47P4-fuyklI"
      }
    },
    {
      "cell_type": "code",
      "execution_count": 10,
      "metadata": {
        "colab": {
          "base_uri": "https://localhost:8080/"
        },
        "id": "2TFULR13yeA7",
        "outputId": "745cb628-2cea-41f9-a436-a699ddae5da4"
      },
      "outputs": [
        {
          "output_type": "execute_result",
          "data": {
            "text/plain": [
              "5"
            ]
          },
          "metadata": {},
          "execution_count": 10
        }
      ],
      "source": [
        "def solution(n, lost, reserve):\n",
        "    set_lost = set(lost) - set(reserve)\n",
        "    set_reserve = set(reserve) - set(lost)\n",
        "    for r in set_reserve:\n",
        "        f = r - 1\n",
        "        b = r + 1\n",
        "        if f in set_lost:\n",
        "            set_lost.remove(f)\n",
        "        elif b in set_lost:\n",
        "            set_lost.remove(b)\n",
        "    answer = n - len(set_lost)\n",
        "    return answer\n",
        "\n",
        "\n",
        "solution(5, [2, 4], [1, 3, 5])"
      ]
    },
    {
      "cell_type": "markdown",
      "source": [
        "**[조이스틱](https://school.programmers.co.kr/learn/courses/30/lessons/42860)**"
      ],
      "metadata": {
        "id": "1Kocp3L2LgrO"
      }
    },
    {
      "cell_type": "code",
      "source": [
        "def solution(name):\n",
        "    answer = 0\n",
        "    min_move = len(name) - 1\n",
        "    \n",
        "    for i, char in enumerate(name):\n",
        "        answer += min(ord(char) - ord('A'), ord('Z') - ord(char) + 1)\n",
        "        \n",
        "        next = i + 1\n",
        "        while next < len(name) and name[next] == 'A':\n",
        "            next += 1\n",
        "            \n",
        "        min_move = min(min_move, 2*i + len(name)-next, i + 2*(len(name)-next))\n",
        "        \n",
        "    answer += min_move\n",
        "    return answer\n",
        "\n",
        "\n",
        "solution(\"JEROEN\")"
      ],
      "metadata": {
        "colab": {
          "base_uri": "https://localhost:8080/"
        },
        "id": "hEV0LbGwEqfF",
        "outputId": "b45b0251-f3a5-4102-d238-a4d1b7073384"
      },
      "execution_count": 9,
      "outputs": [
        {
          "output_type": "execute_result",
          "data": {
            "text/plain": [
              "56"
            ]
          },
          "metadata": {},
          "execution_count": 9
        }
      ]
    },
    {
      "cell_type": "markdown",
      "source": [
        "**[큰 수 만들기](https://school.programmers.co.kr/learn/courses/30/lessons/42883)**"
      ],
      "metadata": {
        "id": "aXRyhKPty0rh"
      }
    },
    {
      "cell_type": "code",
      "source": [
        "def solution(number, k):\n",
        "    answer = [number[0]]\n",
        "    \n",
        "    for i in number[1:]:\n",
        "        while (len(answer) > 0) and (answer[-1] < i) and (k > 0):\n",
        "            k -= 1\n",
        "            answer.pop()\n",
        "        answer.append(i)\n",
        "        \n",
        "    if k > 0:\n",
        "        answer = answer[:-k]\n",
        "        \n",
        "    return ''.join(answer)\n",
        "\n",
        "\n",
        "solution(\"1924\", 2)"
      ],
      "metadata": {
        "colab": {
          "base_uri": "https://localhost:8080/",
          "height": 36
        },
        "id": "48Qvx_Owyr5o",
        "outputId": "39e22bfc-28c5-46a5-cd99-93ebd6de63a7"
      },
      "execution_count": 3,
      "outputs": [
        {
          "output_type": "execute_result",
          "data": {
            "text/plain": [
              "'94'"
            ],
            "application/vnd.google.colaboratory.intrinsic+json": {
              "type": "string"
            }
          },
          "metadata": {},
          "execution_count": 3
        }
      ]
    },
    {
      "cell_type": "markdown",
      "source": [
        "**[구명보트](https://school.programmers.co.kr/learn/courses/30/lessons/42885)**"
      ],
      "metadata": {
        "id": "YcOr0oe4zH_A"
      }
    },
    {
      "cell_type": "code",
      "source": [
        "from collections import deque\n",
        "\n",
        "def solution(people, limit):\n",
        "    answer = 0\n",
        "    people.sort()\n",
        "    queue = deque(people)\n",
        "    \n",
        "    while len(queue) >= 2:\n",
        "        if queue[0] + queue[-1] <= limit:\n",
        "            queue.popleft()\n",
        "            queue.pop()\n",
        "            answer += 1\n",
        "        else:\n",
        "            queue.pop()\n",
        "            answer +=1\n",
        "\n",
        "    if queue:\n",
        "        answer += 1\n",
        "                \n",
        "    return answer\n",
        "\n",
        "\n",
        "solution([70, 50, 80, 50], 100)"
      ],
      "metadata": {
        "colab": {
          "base_uri": "https://localhost:8080/"
        },
        "id": "_h976edvzOjk",
        "outputId": "ed5d7447-838f-4bcb-ebdb-e8fec48ccc3b"
      },
      "execution_count": 4,
      "outputs": [
        {
          "output_type": "execute_result",
          "data": {
            "text/plain": [
              "3"
            ]
          },
          "metadata": {},
          "execution_count": 4
        }
      ]
    },
    {
      "cell_type": "markdown",
      "source": [
        "**[섬 연결하기](https://school.programmers.co.kr/learn/courses/30/lessons/42861)**"
      ],
      "metadata": {
        "id": "9YpbPvos8lOd"
      }
    },
    {
      "cell_type": "code",
      "source": [
        "def solution(n, costs):\n",
        "    answer = 0\n",
        "    costs.sort(key = lambda x:x[2])\n",
        "    link = set([costs[0][0]])\n",
        "    \n",
        "    while len(link) != n:\n",
        "        for v in costs:\n",
        "            if v[0] in link and v[1] in link:\n",
        "                continue\n",
        "            if v[0] in link or v[1] in link:\n",
        "                link.update([v[0], v[1]])\n",
        "                answer += v[2]\n",
        "                break\n",
        "    \n",
        "    return answer\n",
        "\n",
        "\n",
        "solution(4, [[0,1,1],[0,2,2],[1,2,5],[1,3,1],[2,3,8]])"
      ],
      "metadata": {
        "colab": {
          "base_uri": "https://localhost:8080/"
        },
        "id": "lXqvs6aZ8px2",
        "outputId": "83ca448a-1c04-481e-9db9-a902f45a1812"
      },
      "execution_count": 5,
      "outputs": [
        {
          "output_type": "execute_result",
          "data": {
            "text/plain": [
              "4"
            ]
          },
          "metadata": {},
          "execution_count": 5
        }
      ]
    },
    {
      "cell_type": "markdown",
      "source": [
        "**[단속카메라](https://school.programmers.co.kr/learn/courses/30/lessons/42884)**"
      ],
      "metadata": {
        "id": "Nfbyhl8V_zQd"
      }
    },
    {
      "cell_type": "code",
      "source": [
        "def solution(routes):\n",
        "    answer = 0\n",
        "    routes.sort(key = lambda x:x[1])\n",
        "    camera = -30001\n",
        "    \n",
        "    for i in routes:\n",
        "        if camera < i[0]:\n",
        "            camera = i[1]\n",
        "            answer += 1\n",
        "            \n",
        "    return answer\n",
        "\n",
        "\n",
        "solution([[-20,-15], [-14,-5], [-18,-13], [-5,-3]])"
      ],
      "metadata": {
        "colab": {
          "base_uri": "https://localhost:8080/"
        },
        "id": "XMKoQObX_3De",
        "outputId": "db309ad4-d2a0-4344-e732-0e6f1d7f02e0"
      },
      "execution_count": 7,
      "outputs": [
        {
          "output_type": "execute_result",
          "data": {
            "text/plain": [
              "2"
            ]
          },
          "metadata": {},
          "execution_count": 7
        }
      ]
    }
  ]
}