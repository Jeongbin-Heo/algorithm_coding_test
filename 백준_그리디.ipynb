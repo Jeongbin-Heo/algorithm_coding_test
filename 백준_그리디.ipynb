{
  "nbformat": 4,
  "nbformat_minor": 0,
  "metadata": {
    "colab": {
      "provenance": [],
      "authorship_tag": "ABX9TyOUlxB3HMVONy9lRyKvZ6Ue",
      "include_colab_link": true
    },
    "kernelspec": {
      "name": "python3",
      "display_name": "Python 3"
    },
    "language_info": {
      "name": "python"
    }
  },
  "cells": [
    {
      "cell_type": "markdown",
      "metadata": {
        "id": "view-in-github",
        "colab_type": "text"
      },
      "source": [
        "<a href=\"https://colab.research.google.com/github/Jeongbin-Heo/algorithm_coding_test/blob/main/%EB%B0%B1%EC%A4%80_%EA%B7%B8%EB%A6%AC%EB%94%94.ipynb\" target=\"_parent\"><img src=\"https://colab.research.google.com/assets/colab-badge.svg\" alt=\"Open In Colab\"/></a>"
      ]
    },
    {
      "cell_type": "markdown",
      "source": [
        "# 그리디 알고리즘"
      ],
      "metadata": {
        "id": "8uGd7_Hmw6ie"
      }
    },
    {
      "cell_type": "markdown",
      "source": [
        "**11047 - [동전 개수의 최솟값 구하기](https://www.acmicpc.net/problem/11047)**"
      ],
      "metadata": {
        "id": "NoT3mRMww8Zi"
      }
    },
    {
      "cell_type": "code",
      "execution_count": 2,
      "metadata": {
        "id": "HhZmeS6cw3U3",
        "outputId": "b5b9d63a-a1c0-4830-90d5-eaa5ac16168f",
        "colab": {
          "base_uri": "https://localhost:8080/"
        }
      },
      "outputs": [
        {
          "output_type": "stream",
          "name": "stdout",
          "text": [
            "10 4200\n",
            "1\n",
            "5\n",
            "10\n",
            "50\n",
            "100\n",
            "500\n",
            "1000\n",
            "5000\n",
            "10000\n",
            "50000\n",
            "6\n"
          ]
        }
      ],
      "source": [
        "import sys\n",
        "# input = sys.stdin.readline\n",
        "\n",
        "n, k = map(int, input().split())\n",
        "A = []\n",
        "\n",
        "for i in range(n):\n",
        "    A.append(int(input()))\n",
        "    \n",
        "count = 0\n",
        "    \n",
        "for i in range(n-1, -1, -1):\n",
        "    if A[i] <= k:\n",
        "        count += k // A[i]\n",
        "        k = k % A[i]\n",
        "        \n",
        "print(count)"
      ]
    },
    {
      "cell_type": "markdown",
      "source": [
        "**1715 - [카드 정렬하기](https://www.acmicpc.net/problem/1715)**"
      ],
      "metadata": {
        "id": "zB-oN6AXxAdc"
      }
    },
    {
      "cell_type": "code",
      "source": [
        "import heapq\n",
        "import sys\n",
        "# input = sys.stdin.readline\n",
        "\n",
        "n = int(input())\n",
        "card = []\n",
        "for i in range(n):\n",
        "    heapq.heappush(card, int(input()))\n",
        "    \n",
        "answer = 0\n",
        "\n",
        "while len(card) > 1:\n",
        "    a = heapq.heappop(card)\n",
        "    b = heapq.heappop(card)\n",
        "    answer += a + b\n",
        "    heapq.heappush(card, a + b)\n",
        "    \n",
        "print(answer)"
      ],
      "metadata": {
        "id": "wo_Jv7ZxxFz3",
        "outputId": "e61f2d1d-97bd-43a2-fc58-7f7fb5bc8363",
        "colab": {
          "base_uri": "https://localhost:8080/"
        }
      },
      "execution_count": 3,
      "outputs": [
        {
          "output_type": "stream",
          "name": "stdout",
          "text": [
            "3\n",
            "10\n",
            "20\n",
            "40\n",
            "100\n"
          ]
        }
      ]
    },
    {
      "cell_type": "markdown",
      "source": [
        "**1744 - [수를 묶어서 최댓값 만들기](https://www.acmicpc.net/problem/1744)**"
      ],
      "metadata": {
        "id": "nF8Br1b2xGDN"
      }
    },
    {
      "cell_type": "code",
      "source": [
        "import heapq\n",
        "import sys\n",
        "# input = sys.stdin.readline\n",
        "\n",
        "n = int(input())\n",
        "plus = []\n",
        "minus = []\n",
        "one = 0\n",
        "zero = 0\n",
        "\n",
        "for _ in range(n):\n",
        "    num = int(input())\n",
        "    if num > 1:\n",
        "        heapq.heappush(plus, num*(-1))\n",
        "    elif num == 1:\n",
        "        one += 1\n",
        "    elif num == 0:\n",
        "        zero += 1\n",
        "    else:\n",
        "        heapq.heappush(minus, num)\n",
        "\n",
        "answer = 0\n",
        "\n",
        "while len(plus) > 1:\n",
        "    p1 = heapq.heappop(plus)*(-1)\n",
        "    p2 = heapq.heappop(plus)*(-1)\n",
        "    answer += p1*p2\n",
        "    \n",
        "if len(plus) > 0:\n",
        "    answer += heapq.heappop(plus)*(-1)\n",
        "    \n",
        "while len(minus) > 1:\n",
        "    m1 = heapq.heappop(minus)\n",
        "    m2 = heapq.heappop(minus)\n",
        "    answer += m1*m2\n",
        "    \n",
        "if len(minus) > 0:\n",
        "    if zero == 0:\n",
        "        answer += heapq.heappop(minus)\n",
        "        \n",
        "answer += one\n",
        "\n",
        "print(answer)"
      ],
      "metadata": {
        "id": "HhaP-EWoxK92",
        "outputId": "5c20e05e-72d8-4c68-ec49-067831eea7d9",
        "colab": {
          "base_uri": "https://localhost:8080/"
        }
      },
      "execution_count": 4,
      "outputs": [
        {
          "output_type": "stream",
          "name": "stdout",
          "text": [
            "9\n",
            "-1\n",
            "-8\n",
            "2\n",
            "1\n",
            "3\n",
            "6\n",
            "-5\n",
            "0\n",
            "1\n",
            "62\n"
          ]
        }
      ]
    },
    {
      "cell_type": "markdown",
      "source": [
        "**1931 - [회의실 배정하기](https://www.acmicpc.net/problem/1931)**"
      ],
      "metadata": {
        "id": "tEwUHY-nxMiV"
      }
    },
    {
      "cell_type": "code",
      "source": [
        "import sys\n",
        "# input = sys.stdin.readline\n",
        "\n",
        "n = int(input())\n",
        "A = [[0]*2 for _ in range(n)]\n",
        "\n",
        "for i in range(n):\n",
        "    A[i][0], A[i][1] = map(int, input().split())\n",
        "    \n",
        "A.sort(key = lambda x : (x[1], x[0]))\n",
        "\n",
        "end = 0\n",
        "count = 0\n",
        "\n",
        "for i in range(n):\n",
        "    if A[i][0] >= end:\n",
        "        count += 1\n",
        "        end = A[i][1]\n",
        "        \n",
        "print(count)"
      ],
      "metadata": {
        "id": "rB5xKVkAxOhL",
        "outputId": "a9976cd5-2138-4e19-afa6-5a3e260a56fe",
        "colab": {
          "base_uri": "https://localhost:8080/"
        }
      },
      "execution_count": 7,
      "outputs": [
        {
          "output_type": "stream",
          "name": "stdout",
          "text": [
            "11\n",
            "1 4\n",
            "3 5\n",
            "0 6\n",
            "5 7\n",
            "3 8\n",
            "5 9\n",
            "6 10\n",
            "8 11\n",
            "8 12\n",
            "2 13\n",
            "12 14\n",
            "4\n"
          ]
        }
      ]
    },
    {
      "cell_type": "markdown",
      "source": [
        "**1541 - [최솟값을 만드는 괄호 배치 찾기](https://www.acmicpc.net/problem/1541)**"
      ],
      "metadata": {
        "id": "KKNmSqc5xTvt"
      }
    },
    {
      "cell_type": "code",
      "source": [
        "A = list(map(str, input().split('-')))\n",
        "\n",
        "def sum(x):\n",
        "    sum = 0\n",
        "    nums = x.split('+')\n",
        "    for i in nums:\n",
        "        sum += int(i)\n",
        "    return sum\n",
        "        \n",
        "answer = 0\n",
        "\n",
        "for i in range(len(A)):\n",
        "    num = sum(A[i])\n",
        "    \n",
        "    if i == 0:\n",
        "        answer += num\n",
        "    else:\n",
        "        answer -= num\n",
        "        \n",
        "print(answer)"
      ],
      "metadata": {
        "id": "NqTeMMR0xXfi",
        "outputId": "94bd9a53-3334-4ea9-a551-2232339cdb04",
        "colab": {
          "base_uri": "https://localhost:8080/"
        }
      },
      "execution_count": 11,
      "outputs": [
        {
          "output_type": "stream",
          "name": "stdout",
          "text": [
            "100-40+50+74-30+29-45+43+11\n",
            "-222\n"
          ]
        }
      ]
    }
  ]
}