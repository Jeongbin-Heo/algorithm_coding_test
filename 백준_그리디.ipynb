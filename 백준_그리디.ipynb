{
  "nbformat": 4,
  "nbformat_minor": 0,
  "metadata": {
    "colab": {
      "provenance": [],
      "authorship_tag": "ABX9TyN6Ii6KRdNT/DuOzWj4p6O8",
      "include_colab_link": true
    },
    "kernelspec": {
      "name": "python3",
      "display_name": "Python 3"
    },
    "language_info": {
      "name": "python"
    }
  },
  "cells": [
    {
      "cell_type": "markdown",
      "metadata": {
        "id": "view-in-github",
        "colab_type": "text"
      },
      "source": [
        "<a href=\"https://colab.research.google.com/github/Jeongbin-Heo/algorithm_coding_test/blob/main/%EB%B0%B1%EC%A4%80_%EA%B7%B8%EB%A6%AC%EB%94%94.ipynb\" target=\"_parent\"><img src=\"https://colab.research.google.com/assets/colab-badge.svg\" alt=\"Open In Colab\"/></a>"
      ]
    },
    {
      "cell_type": "markdown",
      "source": [
        "# 그리디 알고리즘"
      ],
      "metadata": {
        "id": "8uGd7_Hmw6ie"
      }
    },
    {
      "cell_type": "markdown",
      "source": [
        "**11047 - 동전 개수의 최솟값 구하기**"
      ],
      "metadata": {
        "id": "NoT3mRMww8Zi"
      }
    },
    {
      "cell_type": "code",
      "execution_count": null,
      "metadata": {
        "id": "HhZmeS6cw3U3"
      },
      "outputs": [],
      "source": []
    },
    {
      "cell_type": "markdown",
      "source": [
        "**1715 - 카드 정렬하기**"
      ],
      "metadata": {
        "id": "zB-oN6AXxAdc"
      }
    },
    {
      "cell_type": "code",
      "source": [],
      "metadata": {
        "id": "wo_Jv7ZxxFz3"
      },
      "execution_count": null,
      "outputs": []
    },
    {
      "cell_type": "markdown",
      "source": [
        "**1744 - 수를 묶어서 최댓값 만들기**"
      ],
      "metadata": {
        "id": "nF8Br1b2xGDN"
      }
    },
    {
      "cell_type": "code",
      "source": [],
      "metadata": {
        "id": "HhaP-EWoxK92"
      },
      "execution_count": null,
      "outputs": []
    },
    {
      "cell_type": "markdown",
      "source": [
        "**1931 - 회의실 배정하기**"
      ],
      "metadata": {
        "id": "tEwUHY-nxMiV"
      }
    },
    {
      "cell_type": "code",
      "source": [],
      "metadata": {
        "id": "rB5xKVkAxOhL"
      },
      "execution_count": null,
      "outputs": []
    },
    {
      "cell_type": "markdown",
      "source": [
        "**1541 - 최솟값을 만드는 괄호 배치 찾기**"
      ],
      "metadata": {
        "id": "KKNmSqc5xTvt"
      }
    },
    {
      "cell_type": "code",
      "source": [],
      "metadata": {
        "id": "NqTeMMR0xXfi"
      },
      "execution_count": null,
      "outputs": []
    }
  ]
}