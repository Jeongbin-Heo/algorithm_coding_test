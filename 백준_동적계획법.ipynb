{
  "nbformat": 4,
  "nbformat_minor": 0,
  "metadata": {
    "colab": {
      "provenance": [],
      "authorship_tag": "ABX9TyOmnUQKbBOWH9V1hurrkyAL",
      "include_colab_link": true
    },
    "kernelspec": {
      "name": "python3",
      "display_name": "Python 3"
    },
    "language_info": {
      "name": "python"
    }
  },
  "cells": [
    {
      "cell_type": "markdown",
      "metadata": {
        "id": "view-in-github",
        "colab_type": "text"
      },
      "source": [
        "<a href=\"https://colab.research.google.com/github/Jeongbin-Heo/algorithm_coding_test/blob/main/%EB%B0%B1%EC%A4%80_%EB%8F%99%EC%A0%81%EA%B3%84%ED%9A%8D%EB%B2%95.ipynb\" target=\"_parent\"><img src=\"https://colab.research.google.com/assets/colab-badge.svg\" alt=\"Open In Colab\"/></a>"
      ]
    },
    {
      "cell_type": "markdown",
      "source": [
        "# 동적계획법"
      ],
      "metadata": {
        "id": "q8HPkomY1jDA"
      }
    },
    {
      "cell_type": "markdown",
      "source": [
        "**1463 - [정수를 1로 만들기](https://www.acmicpc.net/problem/1463)**"
      ],
      "metadata": {
        "id": "oDd6gX9v1xM9"
      }
    },
    {
      "cell_type": "code",
      "execution_count": null,
      "metadata": {
        "id": "-Z3-_gUA1drU"
      },
      "outputs": [],
      "source": []
    },
    {
      "cell_type": "markdown",
      "source": [
        "**14501 - [퇴사 준비하기](https://www.acmicpc.net/problem/14501)**"
      ],
      "metadata": {
        "id": "f7xMTUjV1zbJ"
      }
    },
    {
      "cell_type": "code",
      "source": [],
      "metadata": {
        "id": "-RuzrO_i2ENE"
      },
      "execution_count": null,
      "outputs": []
    },
    {
      "cell_type": "markdown",
      "source": [
        "**2193 - [이친수 구하기](https://www.acmicpc.net/problem/2193)**"
      ],
      "metadata": {
        "id": "aVHhimwf2LGF"
      }
    },
    {
      "cell_type": "code",
      "source": [],
      "metadata": {
        "id": "Eu-jX3pY2Ugs"
      },
      "execution_count": null,
      "outputs": []
    },
    {
      "cell_type": "markdown",
      "source": [
        "**11726 - [2*N 타일 채우기](https://www.acmicpc.net/problem/11726)**"
      ],
      "metadata": {
        "id": "CRh8MJCk2U2z"
      }
    },
    {
      "cell_type": "code",
      "source": [],
      "metadata": {
        "id": "iGAn4eOz2Yad"
      },
      "execution_count": null,
      "outputs": []
    },
    {
      "cell_type": "markdown",
      "source": [
        "**10844 - [계단 수 구하기](https://www.acmicpc.net/problem/10844)**"
      ],
      "metadata": {
        "id": "idOfFfa92gsI"
      }
    },
    {
      "cell_type": "code",
      "source": [],
      "metadata": {
        "id": "gl0XDPen2xka"
      },
      "execution_count": null,
      "outputs": []
    },
    {
      "cell_type": "markdown",
      "source": [
        "**13398 - [연속된 정수의 합 구하기](https://www.acmicpc.net/problem/13398)**"
      ],
      "metadata": {
        "id": "wbg-TlZU2x-L"
      }
    },
    {
      "cell_type": "code",
      "source": [],
      "metadata": {
        "id": "xOWvQ3uc20hM"
      },
      "execution_count": null,
      "outputs": []
    },
    {
      "cell_type": "markdown",
      "source": [
        "**9252 - [최장 공통 부분 수열 찾기](https://www.acmicpc.net/problem/9252)**"
      ],
      "metadata": {
        "id": "1bjuhgsY29ok"
      }
    },
    {
      "cell_type": "code",
      "source": [],
      "metadata": {
        "id": "kTwCCjjH3ERx"
      },
      "execution_count": null,
      "outputs": []
    },
    {
      "cell_type": "markdown",
      "source": [
        "**1915 - [가장 큰 정사각형 찾기](https://www.acmicpc.net/problem/1915)**"
      ],
      "metadata": {
        "id": "E86xV-9_3RIS"
      }
    },
    {
      "cell_type": "code",
      "source": [],
      "metadata": {
        "id": "3BGxySk83eSA"
      },
      "execution_count": null,
      "outputs": []
    },
    {
      "cell_type": "markdown",
      "source": [
        "**1328 - [빌딩 순서 구하기](https://www.acmicpc.net/problem/1328)**"
      ],
      "metadata": {
        "id": "E1j1wVmO3hA_"
      }
    },
    {
      "cell_type": "code",
      "source": [],
      "metadata": {
        "id": "JffWg7pa3jvY"
      },
      "execution_count": null,
      "outputs": []
    },
    {
      "cell_type": "markdown",
      "source": [
        "**2342 - [DDR을 해보자](https://www.acmicpc.net/problem/2342)**"
      ],
      "metadata": {
        "id": "FP69ucmR3j_q"
      }
    },
    {
      "cell_type": "code",
      "source": [],
      "metadata": {
        "id": "FTvZBJYN3vUU"
      },
      "execution_count": null,
      "outputs": []
    },
    {
      "cell_type": "markdown",
      "source": [
        "**11049 - [행렬 곱 연산 횟수의 최솟값 구하기](https://www.acmicpc.net/problem/11049)**"
      ],
      "metadata": {
        "id": "7IgyQC6436_p"
      }
    },
    {
      "cell_type": "code",
      "source": [],
      "metadata": {
        "id": "mKEP63Xl3_JH"
      },
      "execution_count": null,
      "outputs": []
    },
    {
      "cell_type": "markdown",
      "source": [
        "**2098 - [외판원의 순회 경로 짜기](https://www.acmicpc.net/problem/2098)**"
      ],
      "metadata": {
        "id": "ntw8QZlB4SzF"
      }
    },
    {
      "cell_type": "code",
      "source": [],
      "metadata": {
        "id": "xFRB434P4V6N"
      },
      "execution_count": null,
      "outputs": []
    },
    {
      "cell_type": "markdown",
      "source": [
        "**14003 - [가장 길게 증가하는 부분 수열 찾기](https://www.acmicpc.net/problem/14003)**"
      ],
      "metadata": {
        "id": "7dKO3pjh4nZH"
      }
    },
    {
      "cell_type": "code",
      "source": [
        "N = int(input())\n",
        "A = [0] + list(map(int, input().split()))\n",
        "B = [0]*1000001\n",
        "D = [0]*1000001\n",
        "B[1] = A[1]\n",
        "D[1] = 1\n",
        "\n",
        "def binary(l, r, now):\n",
        "    while l < r:\n",
        "        mid = (l + r)//2\n",
        "        if B[mid] < now:\n",
        "            l = mid + 1\n",
        "        else:\n",
        "            r = mid\n",
        "    return l\n",
        "\n",
        "index = 0\n",
        "max_length = 1\n",
        "\n",
        "for i in range(2, N+1):\n",
        "    if B[max_length] < A[i]:\n",
        "        max_length += 1\n",
        "        B[max_length] = A[i]\n",
        "        D[i] = max_length\n",
        "    else:\n",
        "        index = binary(1, max_length, A[i])\n",
        "        B[index] = A[i]\n",
        "        D[i] = index\n",
        "        \n",
        "answer = max_length\n",
        "answer_list = []\n",
        "\n",
        "for i in range(N, 0, -1):\n",
        "    if D[i] == max_length:\n",
        "        answer_list.append(A[i])\n",
        "        max_length -= 1\n",
        "        \n",
        "print(answer)\n",
        "\n",
        "for i in range(len(answer_list) - 1, -1, -1):\n",
        "    print(answer_list[i], end = ' ')"
      ],
      "metadata": {
        "id": "fwvxnuT1aJUl",
        "outputId": "45bc1825-26ad-4093-b22f-169d1fb18d27",
        "colab": {
          "base_uri": "https://localhost:8080/"
        }
      },
      "execution_count": 28,
      "outputs": [
        {
          "output_type": "stream",
          "name": "stdout",
          "text": [
            "10\n",
            "11 5 10 12 7 14 3 8 24 2\n",
            "5\n",
            "5 10 12 14 24 "
          ]
        }
      ]
    }
  ]
}