{
  "nbformat": 4,
  "nbformat_minor": 0,
  "metadata": {
    "colab": {
      "provenance": [],
      "authorship_tag": "ABX9TyNdfHbTHD/Tgz2fAYasWoFN",
      "include_colab_link": true
    },
    "kernelspec": {
      "name": "python3",
      "display_name": "Python 3"
    },
    "language_info": {
      "name": "python"
    }
  },
  "cells": [
    {
      "cell_type": "markdown",
      "metadata": {
        "id": "view-in-github",
        "colab_type": "text"
      },
      "source": [
        "<a href=\"https://colab.research.google.com/github/Jeongbin-Heo/algorithm_coding_test/blob/main/%EB%B0%B1%EC%A4%80_%EB%8F%99%EC%A0%81%EA%B3%84%ED%9A%8D%EB%B2%95.ipynb\" target=\"_parent\"><img src=\"https://colab.research.google.com/assets/colab-badge.svg\" alt=\"Open In Colab\"/></a>"
      ]
    },
    {
      "cell_type": "markdown",
      "source": [
        "# 동적계획법"
      ],
      "metadata": {
        "id": "q8HPkomY1jDA"
      }
    },
    {
      "cell_type": "markdown",
      "source": [
        "**1463 - [정수를 1로 만들기](https://www.acmicpc.net/problem/1463)**"
      ],
      "metadata": {
        "id": "oDd6gX9v1xM9"
      }
    },
    {
      "cell_type": "code",
      "execution_count": null,
      "metadata": {
        "id": "-Z3-_gUA1drU",
        "outputId": "24bd76c0-2f06-470c-f5be-3f2754ad94e1",
        "colab": {
          "base_uri": "https://localhost:8080/"
        }
      },
      "outputs": [
        {
          "output_type": "stream",
          "name": "stdout",
          "text": [
            "10\n",
            "3\n"
          ]
        }
      ],
      "source": [
        "N = int(input())\n",
        "D = [0]*1000001\n",
        "D[1] = 0\n",
        "D[2] = 1\n",
        "\n",
        "for i in range(2, N+1):\n",
        "    D[i] = D[i-1] + 1\n",
        "    \n",
        "    if i % 2 == 0:\n",
        "        D[i] = min(D[i], D[i//2] + 1)\n",
        "        \n",
        "    if i % 3 == 0:\n",
        "        D[i] = min(D[i], D[i//3] + 1)\n",
        "        \n",
        "print(D[N])"
      ]
    },
    {
      "cell_type": "markdown",
      "source": [
        "**14501 - [퇴사 준비하기](https://www.acmicpc.net/problem/14501)**"
      ],
      "metadata": {
        "id": "f7xMTUjV1zbJ"
      }
    },
    {
      "cell_type": "code",
      "source": [
        "import sys\n",
        "# input = sys.stdin.readline\n",
        "\n",
        "N = int(input())\n",
        "T = [0]*16\n",
        "P = [0]*16\n",
        "\n",
        "for i in range(1, N+1):\n",
        "    T[i], P[i] = map(int, input().split())\n",
        "    \n",
        "D = [0]*17\n",
        "\n",
        "for i in range(N, 0, -1):\n",
        "    if i + T[i] - 1 > N:\n",
        "        D[i] = D[i+1]\n",
        "    else:\n",
        "        D[i] = max(D[i+1], D[i+T[i]] + P[i])\n",
        "        \n",
        "print(D[1])"
      ],
      "metadata": {
        "id": "-RuzrO_i2ENE",
        "outputId": "3d0c0b12-c212-478f-b5e7-4cd3575cefb0",
        "colab": {
          "base_uri": "https://localhost:8080/"
        }
      },
      "execution_count": null,
      "outputs": [
        {
          "output_type": "stream",
          "name": "stdout",
          "text": [
            "7\n",
            "3 10\n",
            "5 20\n",
            "1 10\n",
            "1 20\n",
            "2 15\n",
            "4 40\n",
            "2 200\n",
            "45\n"
          ]
        }
      ]
    },
    {
      "cell_type": "markdown",
      "source": [
        "**2193 - [이친수 구하기](https://www.acmicpc.net/problem/2193)**"
      ],
      "metadata": {
        "id": "aVHhimwf2LGF"
      }
    },
    {
      "cell_type": "code",
      "source": [
        "N = int(input())\n",
        "    \n",
        "D0 = [0]*(N+1)\n",
        "D1 = [0]*(N+1)\n",
        "\n",
        "D0[1] = 0\n",
        "D1[1] = 1\n",
        "\n",
        "for i in range(2, N+1):\n",
        "    D0[i] = D0[i-1] + D1[i-1]\n",
        "    D1[i] = D0[i-1]\n",
        "    \n",
        "answer = D0[N] + D1[N]\n",
        "\n",
        "print(answer)"
      ],
      "metadata": {
        "id": "Eu-jX3pY2Ugs",
        "outputId": "a44b9f38-c065-4ac5-ec0e-ad142438421d",
        "colab": {
          "base_uri": "https://localhost:8080/"
        }
      },
      "execution_count": null,
      "outputs": [
        {
          "output_type": "stream",
          "name": "stdout",
          "text": [
            "5\n",
            "5\n"
          ]
        }
      ]
    },
    {
      "cell_type": "markdown",
      "source": [
        "**11726 - [2*N 타일 채우기](https://www.acmicpc.net/problem/11726)**"
      ],
      "metadata": {
        "id": "CRh8MJCk2U2z"
      }
    },
    {
      "cell_type": "code",
      "source": [
        "N = int(input())\n",
        "D = [0]*(1001)\n",
        "\n",
        "D[1] = 1\n",
        "D[2] = 2\n",
        "\n",
        "for i in range(3, N+1):\n",
        "    D[i] = D[i-1] + D[i-2]\n",
        "    \n",
        "answer = D[N] % 10007\n",
        "\n",
        "print(answer)"
      ],
      "metadata": {
        "id": "iGAn4eOz2Yad",
        "outputId": "520f6828-db37-4b97-ca13-bab7861b1d8b",
        "colab": {
          "base_uri": "https://localhost:8080/"
        }
      },
      "execution_count": null,
      "outputs": [
        {
          "output_type": "stream",
          "name": "stdout",
          "text": [
            "9\n",
            "55\n"
          ]
        }
      ]
    },
    {
      "cell_type": "markdown",
      "source": [
        "**10844 - [계단 수 구하기](https://www.acmicpc.net/problem/10844)**"
      ],
      "metadata": {
        "id": "idOfFfa92gsI"
      }
    },
    {
      "cell_type": "code",
      "source": [
        "N = int(input())\n",
        "D = [[0]*10 for _ in range(101)]\n",
        "\n",
        "for i in range(1, 10):\n",
        "    D[1][i] = 1\n",
        "    \n",
        "for i in range(2, N+1):\n",
        "    for j in range(10):\n",
        "        if j == 0:\n",
        "            D[i][j] = D[i-1][j+1]\n",
        "        elif j == 9:\n",
        "            D[i][j] = D[i-1][j-1]\n",
        "        else:\n",
        "            D[i][j] = D[i-1][j-1] + D[i-1][j+1]\n",
        "            \n",
        "sum = 0\n",
        "\n",
        "for i in range(10):\n",
        "    sum += D[N][i]\n",
        "    \n",
        "print(sum % 1000000000)"
      ],
      "metadata": {
        "id": "gl0XDPen2xka",
        "outputId": "22363284-1652-4b66-e0a0-6f1e4811ba29",
        "colab": {
          "base_uri": "https://localhost:8080/"
        }
      },
      "execution_count": null,
      "outputs": [
        {
          "output_type": "stream",
          "name": "stdout",
          "text": [
            "2\n",
            "17\n"
          ]
        }
      ]
    },
    {
      "cell_type": "markdown",
      "source": [
        "**13398 - [연속된 정수의 합 구하기](https://www.acmicpc.net/problem/13398)**"
      ],
      "metadata": {
        "id": "wbg-TlZU2x-L"
      }
    },
    {
      "cell_type": "code",
      "source": [
        "import sys\n",
        "# input = sys.stdin.readline\n",
        "\n",
        "N = int(input())\n",
        "nums = list(map(int, input().split()))\n",
        "L = [0]*N\n",
        "R = [0]*N\n",
        "L[0] = nums[0]\n",
        "R[-1] = nums[-1]\n",
        "\n",
        "for i in range(1, N):\n",
        "    if L[i-1] < 0:\n",
        "        L[i] = nums[i]\n",
        "    else:\n",
        "        L[i] = L[i-1] + nums[i]\n",
        "    \n",
        "for i in range(N-2, -1, -1):\n",
        "    if R[i+1] < 0:\n",
        "        R[i] = nums[i]\n",
        "    else:\n",
        "        R[i] = R[i+1] + nums[i]\n",
        "    \n",
        "answer = max(L)\n",
        "\n",
        "for i in range(1, N-1):\n",
        "    answer = max(answer, L[i-1] + R[i+1])\n",
        "    \n",
        "print(answer)"
      ],
      "metadata": {
        "id": "xOWvQ3uc20hM",
        "outputId": "7c4d28cd-2c1b-4d81-cbc1-e5a3d6242c37",
        "colab": {
          "base_uri": "https://localhost:8080/"
        }
      },
      "execution_count": null,
      "outputs": [
        {
          "output_type": "stream",
          "name": "stdout",
          "text": [
            "10\n",
            "10 -4 3 1 5 6 -35 12 21 -1\n",
            "54\n"
          ]
        }
      ]
    },
    {
      "cell_type": "markdown",
      "source": [
        "**9252 - [최장 공통 부분 수열 찾기](https://www.acmicpc.net/problem/9252)**"
      ],
      "metadata": {
        "id": "1bjuhgsY29ok"
      }
    },
    {
      "cell_type": "code",
      "source": [
        "import sys\n",
        "sys.setrecursionlimit(10000)\n",
        "# input = sys.stdin.readline\n",
        "\n",
        "A = list(input())\n",
        "A.pop()\n",
        "B = list(input())\n",
        "B.pop()\n",
        "\n",
        "D = [[0]*(len(B)+1) for _ in range(len(A)+1)]\n",
        "\n",
        "for i in range(1, len(A)+1):\n",
        "    for j in range(1, len(B)+1):\n",
        "        if A[i-1] == B[j-1]:\n",
        "            D[i][j] = D[i-1][j-1] + 1\n",
        "        else:\n",
        "            D[i][j] = max(D[i-1][j], D[i][j-1])\n",
        "            \n",
        "path = []\n",
        "\n",
        "def find(x, y):\n",
        "    if x == 0 or y == 0:\n",
        "        return\n",
        "    if (D[x][y] == D[x-1][y] + 1) and (D[x][y] == D[x][y-1] + 1):\n",
        "        path.append(A[x-1])\n",
        "        find(x-1, y-1)\n",
        "    else:\n",
        "        if D[x-1][y] > D[x][y-1]:\n",
        "            find(x-1, y)\n",
        "        else:\n",
        "            find(x, y-1)\n",
        "            \n",
        "find(len(A), len(B))\n",
        "\n",
        "print(D[-1][-1])\n",
        "\n",
        "for i in range(len(path)-1, -1, -1):\n",
        "    print(path[i], end = '')"
      ],
      "metadata": {
        "id": "kTwCCjjH3ERx",
        "outputId": "8466cc0c-434e-4dec-8006-5869dfd43092",
        "colab": {
          "base_uri": "https://localhost:8080/"
        }
      },
      "execution_count": null,
      "outputs": [
        {
          "output_type": "stream",
          "name": "stdout",
          "text": [
            "ACAYKP \n",
            "CAPCAK \n",
            "4\n",
            "ACAK"
          ]
        }
      ]
    },
    {
      "cell_type": "markdown",
      "source": [
        "**1915 - [가장 큰 정사각형 찾기](https://www.acmicpc.net/problem/1915)**"
      ],
      "metadata": {
        "id": "E86xV-9_3RIS"
      }
    },
    {
      "cell_type": "code",
      "source": [
        "import sys\n",
        "# input = sys.stdin.readline\n",
        "\n",
        "n, m = map(int, input().split())\n",
        "D = [[0]*1000 for _ in range(1000)]\n",
        "\n",
        "for i in range(n):\n",
        "    data = list(input())\n",
        "    for j in range(m):\n",
        "        D[i][j] = int(data[j])\n",
        "\n",
        "result = 0\n",
        "\n",
        "for i in range(n):\n",
        "    for j in range(m):\n",
        "        if D[i][j] == 1 and i > 0 and j > 0:\n",
        "            D[i][j] = min(D[i-1][j-1], D[i-1][j], D[i][j-1]) + 1\n",
        "        result = max(result, D[i][j])\n",
        "        \n",
        "print(result*result)"
      ],
      "metadata": {
        "id": "3BGxySk83eSA",
        "outputId": "b6fedbee-1d31-4d6c-a4e1-af9a6a7cac1b",
        "colab": {
          "base_uri": "https://localhost:8080/"
        }
      },
      "execution_count": null,
      "outputs": [
        {
          "output_type": "stream",
          "name": "stdout",
          "text": [
            "4 4\n",
            "0100\n",
            "0111\n",
            "1110\n",
            "0010\n",
            "4\n"
          ]
        }
      ]
    },
    {
      "cell_type": "markdown",
      "source": [
        "**1328 - [빌딩 순서 구하기](https://www.acmicpc.net/problem/1328)**"
      ],
      "metadata": {
        "id": "E1j1wVmO3hA_"
      }
    },
    {
      "cell_type": "code",
      "source": [
        "N, L, R = map(int, input().split())\n",
        "D = [[[0 for k in range(101)] for j in range(101)] for i in range(101)]\n",
        "D[1][1][1] = 1\n",
        "\n",
        "for i in range(2, N+1):\n",
        "    for j in range(1, L+1):\n",
        "        for k in range(1, R+1):\n",
        "            D[i][j][k] = D[i-1][j-1][k] + D[i-1][j][k-1] + D[i-1][j][k]*(i-2)\n",
        "            \n",
        "print(D[N][L][R] % 1000000007)"
      ],
      "metadata": {
        "id": "JffWg7pa3jvY",
        "outputId": "99da2d75-5c09-4cb9-9eae-cf10e8234ecb",
        "colab": {
          "base_uri": "https://localhost:8080/"
        }
      },
      "execution_count": null,
      "outputs": [
        {
          "output_type": "stream",
          "name": "stdout",
          "text": [
            "3 2 2\n",
            "2\n"
          ]
        }
      ]
    },
    {
      "cell_type": "markdown",
      "source": [
        "**2342 - [DDR을 해보자](https://www.acmicpc.net/problem/2342)**"
      ],
      "metadata": {
        "id": "FP69ucmR3j_q"
      }
    },
    {
      "cell_type": "code",
      "source": [
        "import sys\n",
        "\n",
        "input_list = list(map(int, input().split()))\n",
        "D = [[[sys.maxsize for k in range(5)] for j in range(5)] for i in range(100001)]\n",
        "D[0][0][0] = 0\n",
        "mp = [[0, 2, 2, 2, 2],\n",
        "     [2, 1, 3, 4, 3],\n",
        "     [2, 3, 1, 3, 4],\n",
        "     [2, 4, 3, 1, 3],\n",
        "     [2, 3, 4, 3, 1]]\n",
        "\n",
        "s = 1\n",
        "index = 0\n",
        "\n",
        "while input_list[index] != 0:\n",
        "    # n = 다음에 발이 이동해야 하는 위치\n",
        "    n = input_list[index]\n",
        "    \n",
        "    # 왼발을 이동시키는 경우\n",
        "    for j in range(5):\n",
        "        # 다음에 왼발을 이동시킬 위치에 이미 오른발이 있으면 갈 수 없음\n",
        "        if n == j:\n",
        "            continue\n",
        "        for i in range(5):\n",
        "            D[s][n][j] = min(D[s-1][i][j] + mp[i][n], D[s][n][j])\n",
        "\n",
        "    # 오른발을 이동시키는 경우        \n",
        "    for i in range(5):\n",
        "        # 다음에 오른발을 이동시킬 위치에 이미 왼발이 있으면 갈 수 없음\n",
        "        if n == i:\n",
        "            continue\n",
        "        for j in range(5):\n",
        "            D[s][i][n] = min(D[s-1][i][j] + mp[j][n], D[s][i][n])\n",
        "\n",
        "    # 스텝과 인덱스를 +1씩 하면서 반복        \n",
        "    s += 1\n",
        "    index += 1\n",
        "   \n",
        "s -= 1\n",
        "result = sys.maxsize\n",
        "\n",
        "for i in range(5):\n",
        "    for j in range(5):\n",
        "        result = min(result, D[s][i][j])\n",
        "        \n",
        "print(result)"
      ],
      "metadata": {
        "id": "FTvZBJYN3vUU",
        "outputId": "46b3e02f-c494-49c5-ea66-cb295c6c5576",
        "colab": {
          "base_uri": "https://localhost:8080/"
        }
      },
      "execution_count": null,
      "outputs": [
        {
          "output_type": "stream",
          "name": "stdout",
          "text": [
            "1 2 2 4 0\n",
            "8\n"
          ]
        }
      ]
    },
    {
      "cell_type": "markdown",
      "source": [
        "**11049 - [행렬 곱 연산 횟수의 최솟값 구하기](https://www.acmicpc.net/problem/11049)**"
      ],
      "metadata": {
        "id": "7IgyQC6436_p"
      }
    },
    {
      "cell_type": "code",
      "source": [
        "import sys\n",
        "sys.setrecursionlimit(10000)\n",
        "# input = sys.stdin.readline \n",
        "\n",
        "N = int(input())\n",
        "M = [(0, 0)]\n",
        "for _ in range(N):\n",
        "    r, c = map(int, input().split())\n",
        "    M.append((r, c))\n",
        "D = [[-1 for j in range(501)] for i in range(501)]\n",
        "\n",
        "def find(s, e):\n",
        "    if D[s][e] != -1:\n",
        "        return D[s][e]\n",
        "    if s == e:\n",
        "        return 0\n",
        "    if s + 1 == e:\n",
        "        return M[s][0]*M[s][1]*M[e][1]\n",
        "    result = sys.maxsize\n",
        "    for i in range(s, e):\n",
        "        result = min(result, find(s, i) + find(i+1, e) + M[s][0]*M[i][1]*M[e][1])\n",
        "    D[s][e] = result\n",
        "    return D[s][e]\n",
        "\n",
        "answer = find(1, N)\n",
        "\n",
        "print(answer)"
      ],
      "metadata": {
        "id": "mKEP63Xl3_JH",
        "outputId": "6e9289e8-8743-4516-ea88-bac70f734bab",
        "colab": {
          "base_uri": "https://localhost:8080/"
        }
      },
      "execution_count": 2,
      "outputs": [
        {
          "output_type": "stream",
          "name": "stdout",
          "text": [
            "3\n",
            "5 3\n",
            "3 2\n",
            "2 6\n",
            "90\n"
          ]
        }
      ]
    },
    {
      "cell_type": "markdown",
      "source": [
        "**2098 - [외판원의 순회 경로 짜기](https://www.acmicpc.net/problem/2098)**"
      ],
      "metadata": {
        "id": "ntw8QZlB4SzF"
      }
    },
    {
      "cell_type": "code",
      "source": [
        "import sys\n",
        "sys.setrecursionlimit(10000)\n",
        "# input = sys.stdin.readline\n",
        "\n",
        "N = int(input())\n",
        "W = []\n",
        "for _ in range(N):\n",
        "    W.append(list(map(int, input().split())))\n",
        "D = [[0 for j in range(1<<16)] for i in range(16)]\n",
        "\n",
        "def tsp(c, v):\n",
        "    if v == (1<<N) - 1:\n",
        "        if W[c][0] != 0:\n",
        "            return W[c][0]\n",
        "        else:\n",
        "            return sys.maxsize\n",
        "    if D[c][v] != 0:\n",
        "        return D[c][v]\n",
        "    \n",
        "    result = sys.maxsize\n",
        "    for i in range(0, N):\n",
        "        if v & (1<<i) == 0 and W[c][i] != 0:\n",
        "            result = min(result, tsp(i, v | (1<<i)) + W[c][i])\n",
        "    D[c][v] = result\n",
        "    return D[c][v]\n",
        "\n",
        "answer = tsp(0, 1)\n",
        "\n",
        "print(answer)"
      ],
      "metadata": {
        "id": "xFRB434P4V6N",
        "outputId": "8ca36ca9-2218-49b3-a267-db1aa6f5921f",
        "colab": {
          "base_uri": "https://localhost:8080/"
        }
      },
      "execution_count": 3,
      "outputs": [
        {
          "output_type": "stream",
          "name": "stdout",
          "text": [
            "4\n",
            "0 10 15 20\n",
            "5 0 9 10\n",
            "6 13 0 12\n",
            "8 8 9 0\n",
            "35\n"
          ]
        }
      ]
    },
    {
      "cell_type": "markdown",
      "source": [
        "**14003 - [가장 길게 증가하는 부분 수열 찾기](https://www.acmicpc.net/problem/14003)**"
      ],
      "metadata": {
        "id": "7dKO3pjh4nZH"
      }
    },
    {
      "cell_type": "code",
      "source": [
        "N = int(input())\n",
        "A = [0] + list(map(int, input().split()))\n",
        "B = [0]*1000001\n",
        "D = [0]*1000001\n",
        "B[1] = A[1]\n",
        "D[1] = 1\n",
        "\n",
        "def binary(l, r, now):\n",
        "    while l < r:\n",
        "        mid = (l + r)//2\n",
        "        if B[mid] < now:\n",
        "            l = mid + 1\n",
        "        else:\n",
        "            r = mid\n",
        "    return l\n",
        "\n",
        "index = 0\n",
        "max_length = 1\n",
        "\n",
        "for i in range(2, N+1):\n",
        "    if B[max_length] < A[i]:\n",
        "        max_length += 1\n",
        "        B[max_length] = A[i]\n",
        "        D[i] = max_length\n",
        "    else:\n",
        "        index = binary(1, max_length, A[i])\n",
        "        B[index] = A[i]\n",
        "        D[i] = index\n",
        "        \n",
        "answer = max_length\n",
        "answer_list = []\n",
        "\n",
        "for i in range(N, 0, -1):\n",
        "    if D[i] == max_length:\n",
        "        answer_list.append(A[i])\n",
        "        max_length -= 1\n",
        "        \n",
        "print(answer)\n",
        "\n",
        "for i in range(len(answer_list) - 1, -1, -1):\n",
        "    print(answer_list[i], end = ' ')"
      ],
      "metadata": {
        "id": "fwvxnuT1aJUl",
        "outputId": "45bc1825-26ad-4093-b22f-169d1fb18d27",
        "colab": {
          "base_uri": "https://localhost:8080/"
        }
      },
      "execution_count": null,
      "outputs": [
        {
          "output_type": "stream",
          "name": "stdout",
          "text": [
            "10\n",
            "11 5 10 12 7 14 3 8 24 2\n",
            "5\n",
            "5 10 12 14 24 "
          ]
        }
      ]
    }
  ]
}